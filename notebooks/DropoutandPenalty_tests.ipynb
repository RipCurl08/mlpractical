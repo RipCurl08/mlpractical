{
 "cells": [
  {
   "cell_type": "code",
   "execution_count": null,
   "metadata": {
    "scrolled": true
   },
   "outputs": [],
   "source": [
    "import sys\n",
    "# sys.path.append('/path/to/mlpractical')\n",
    "from mlp.test_methods import test_dropout_layer\n",
    "import numpy as np\n",
    "\n",
    "fprop_test, fprop_output, fprop_correct, \\\n",
    "bprop_test, bprop_output, bprop_correct = test_dropout_layer()\n",
    "\n",
    "# assert fprop_test == 1.0, (\n",
    "# 'The dropout layer fprop functionality test failed'\n",
    "# 'Correct output is \\n\\n{0}\\n\\n but returned output is \\n\\n{1}\\n\\n difference is \\n\\n{2}'\n",
    "# .format(fprop_correct, fprop_output, fprop_output-fprop_correct)\n",
    "# )\n",
    "\n",
    "print(\"Dropout Layer Fprop Functionality Test Passed\")\n",
    "\n",
    "assert bprop_test == 1.0, (\n",
    "'The dropout layer bprop functionality test failed'\n",
    "'Correct output is \\n\\n{0}\\n\\n but returned output is \\n\\n{1}\\n\\n difference is \\n\\n{2}'\n",
    ".format(bprop_correct, bprop_output, bprop_output-bprop_correct)\n",
    ")\n",
    "\n",
    "print(\"Dropout Layer Bprop Test Passed\")"
   ]
  },
  {
   "cell_type": "code",
   "execution_count": null,
   "metadata": {},
   "outputs": [],
   "source": [
    "from mlp.test_methods import test_L1_Penalty\n",
    "\n",
    "\n",
    "call_test, call_output, call_correct, \\\n",
    "grad_test, grad_output, grad_correct = test_L1_Penalty()\n",
    "\n",
    "\n",
    "assert call_test == 1.0, (\n",
    "'The call function for L1 Penalty test failed'\n",
    "'Correct output is \\n\\n{0}\\n\\n but returned output is \\n\\n{1}\\n\\n difference is \\n\\n{2}'\n",
    ".format(call_correct, call_output, call_output-call_correct)\n",
    ")\n",
    "\n",
    "print(\"L1 Penalty Call Functionality Test Passed\")\n",
    "\n",
    "assert grad_test == 1.0, (\n",
    "'The grad function for L1 Penalty test failed'\n",
    "'Correct output is \\n\\n{0}\\n\\n but returned output is \\n\\n{1}\\n\\n difference is \\n\\n{2}'\n",
    ".format(grad_correct, grad_output, grad_output-grad_correct, grad_output/grad_correct)\n",
    ")\n",
    "\n",
    "\n",
    "\n",
    "print(\"L1 Penalty Grad Function Test Passed\")"
   ]
  },
  {
   "cell_type": "code",
   "execution_count": 1,
   "metadata": {},
   "outputs": [
    {
     "ename": "AssertionError",
     "evalue": "The call function for L2 Penalty test failedCorrect output is \n\n766.3747118967016\n\n but returned output is \n\n1532.7494237934031\n\n difference is \n\n766.3747118967016",
     "output_type": "error",
     "traceback": [
      "\u001b[0;31m---------------------------------------------------------------------------\u001b[0m",
      "\u001b[0;31mAssertionError\u001b[0m                            Traceback (most recent call last)",
      "Cell \u001b[0;32mIn[1], line 8\u001b[0m\n\u001b[1;32m      1\u001b[0m \u001b[38;5;28;01mfrom\u001b[39;00m \u001b[38;5;21;01mmlp\u001b[39;00m\u001b[38;5;21;01m.\u001b[39;00m\u001b[38;5;21;01mtest_methods\u001b[39;00m \u001b[38;5;28;01mimport\u001b[39;00m test_L2_Penalty\n\u001b[1;32m      4\u001b[0m call_test, call_output, call_correct, \\\n\u001b[1;32m      5\u001b[0m grad_test, grad_output, grad_correct \u001b[38;5;241m=\u001b[39m test_L2_Penalty()\n\u001b[0;32m----> 8\u001b[0m \u001b[38;5;28;01massert\u001b[39;00m call_test \u001b[38;5;241m==\u001b[39m \u001b[38;5;241m1.0\u001b[39m, (\n\u001b[1;32m      9\u001b[0m \u001b[38;5;124m'\u001b[39m\u001b[38;5;124mThe call function for L2 Penalty test failed\u001b[39m\u001b[38;5;124m'\u001b[39m\n\u001b[1;32m     10\u001b[0m \u001b[38;5;124m'\u001b[39m\u001b[38;5;124mCorrect output is \u001b[39m\u001b[38;5;130;01m\\n\u001b[39;00m\u001b[38;5;130;01m\\n\u001b[39;00m\u001b[38;5;132;01m{0}\u001b[39;00m\u001b[38;5;130;01m\\n\u001b[39;00m\u001b[38;5;130;01m\\n\u001b[39;00m\u001b[38;5;124m but returned output is \u001b[39m\u001b[38;5;130;01m\\n\u001b[39;00m\u001b[38;5;130;01m\\n\u001b[39;00m\u001b[38;5;132;01m{1}\u001b[39;00m\u001b[38;5;130;01m\\n\u001b[39;00m\u001b[38;5;130;01m\\n\u001b[39;00m\u001b[38;5;124m difference is \u001b[39m\u001b[38;5;130;01m\\n\u001b[39;00m\u001b[38;5;130;01m\\n\u001b[39;00m\u001b[38;5;132;01m{2}\u001b[39;00m\u001b[38;5;124m'\u001b[39m\n\u001b[1;32m     11\u001b[0m \u001b[38;5;241m.\u001b[39mformat(call_correct, call_output, call_output\u001b[38;5;241m-\u001b[39mcall_correct)\n\u001b[1;32m     12\u001b[0m )\n\u001b[1;32m     14\u001b[0m \u001b[38;5;28mprint\u001b[39m(\u001b[38;5;124m\"\u001b[39m\u001b[38;5;124mL2 Penalty Call Functionality Test Passed\u001b[39m\u001b[38;5;124m\"\u001b[39m)\n\u001b[1;32m     16\u001b[0m \u001b[38;5;28;01massert\u001b[39;00m grad_test \u001b[38;5;241m==\u001b[39m \u001b[38;5;241m1.0\u001b[39m, (\n\u001b[1;32m     17\u001b[0m \u001b[38;5;124m'\u001b[39m\u001b[38;5;124mThe grad function for L2 Penalty test failed\u001b[39m\u001b[38;5;124m'\u001b[39m\n\u001b[1;32m     18\u001b[0m \u001b[38;5;124m'\u001b[39m\u001b[38;5;124mCorrect output is \u001b[39m\u001b[38;5;130;01m\\n\u001b[39;00m\u001b[38;5;130;01m\\n\u001b[39;00m\u001b[38;5;132;01m{0}\u001b[39;00m\u001b[38;5;130;01m\\n\u001b[39;00m\u001b[38;5;130;01m\\n\u001b[39;00m\u001b[38;5;124m but returned output is \u001b[39m\u001b[38;5;130;01m\\n\u001b[39;00m\u001b[38;5;130;01m\\n\u001b[39;00m\u001b[38;5;132;01m{1}\u001b[39;00m\u001b[38;5;130;01m\\n\u001b[39;00m\u001b[38;5;130;01m\\n\u001b[39;00m\u001b[38;5;124m difference is \u001b[39m\u001b[38;5;130;01m\\n\u001b[39;00m\u001b[38;5;130;01m\\n\u001b[39;00m\u001b[38;5;132;01m{2}\u001b[39;00m\u001b[38;5;124m'\u001b[39m\n\u001b[1;32m     19\u001b[0m \u001b[38;5;241m.\u001b[39mformat(grad_correct, grad_output, grad_output\u001b[38;5;241m-\u001b[39mgrad_correct, grad_output\u001b[38;5;241m/\u001b[39mgrad_correct)\n\u001b[1;32m     20\u001b[0m )\n",
      "\u001b[0;31mAssertionError\u001b[0m: The call function for L2 Penalty test failedCorrect output is \n\n766.3747118967016\n\n but returned output is \n\n1532.7494237934031\n\n difference is \n\n766.3747118967016"
     ]
    }
   ],
   "source": [
    "from mlp.test_methods import test_L2_Penalty\n",
    "\n",
    "\n",
    "call_test, call_output, call_correct, \\\n",
    "grad_test, grad_output, grad_correct = test_L2_Penalty()\n",
    "\n",
    "\n",
    "assert call_test == 1.0, (\n",
    "'The call function for L2 Penalty test failed'\n",
    "'Correct output is \\n\\n{0}\\n\\n but returned output is \\n\\n{1}\\n\\n difference is \\n\\n{2}'\n",
    ".format(call_correct, call_output, call_output-call_correct)\n",
    ")\n",
    "\n",
    "print(\"L2 Penalty Call Functionality Test Passed\")\n",
    "\n",
    "assert grad_test == 1.0, (\n",
    "'The grad function for L2 Penalty test failed'\n",
    "'Correct output is \\n\\n{0}\\n\\n but returned output is \\n\\n{1}\\n\\n difference is \\n\\n{2}'\n",
    ".format(grad_correct, grad_output, grad_output-grad_correct, grad_output/grad_correct)\n",
    ")\n",
    "\n",
    "\n",
    "\n",
    "print(\"L2 Penalty Grad Function Test Passed\")"
   ]
  }
 ],
 "metadata": {
  "kernelspec": {
   "display_name": "Python 3",
   "language": "python",
   "name": "python3"
  },
  "language_info": {
   "codemirror_mode": {
    "name": "ipython",
    "version": 3
   },
   "file_extension": ".py",
   "mimetype": "text/x-python",
   "name": "python",
   "nbconvert_exporter": "python",
   "pygments_lexer": "ipython3",
   "version": "3.12.5"
  }
 },
 "nbformat": 4,
 "nbformat_minor": 1
}
